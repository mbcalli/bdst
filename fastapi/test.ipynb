{
 "cells": [
  {
   "cell_type": "code",
   "execution_count": 3,
   "metadata": {},
   "outputs": [],
   "source": [
    "import json\n",
    "import requests\n",
    "import dictfier\n",
    "from fhir import *"
   ]
  },
  {
   "cell_type": "code",
   "execution_count": 2,
   "metadata": {},
   "outputs": [],
   "source": [
    "with open('observation_dict_query.json', 'r') as file:\n",
    "        observation_dict_query = json.load(file)"
   ]
  },
  {
   "cell_type": "code",
   "execution_count": 4,
   "metadata": {},
   "outputs": [],
   "source": [
    "with open('test_observation.json', 'r') as file:\n",
    "        test_observation = json.load(file)"
   ]
  },
  {
   "cell_type": "code",
   "execution_count": 5,
   "metadata": {},
   "outputs": [],
   "source": [
    "test_class = Observation(**test_observation)"
   ]
  },
  {
   "cell_type": "code",
   "execution_count": 8,
   "metadata": {},
   "outputs": [
    {
     "ename": "AttributeError",
     "evalue": "'dict' object has no attribute 'value'",
     "output_type": "error",
     "traceback": [
      "\u001b[0;31m---------------------------------------------------------------------------\u001b[0m",
      "\u001b[0;31mAttributeError\u001b[0m                            Traceback (most recent call last)",
      "Cell \u001b[0;32mIn[8], line 1\u001b[0m\n\u001b[0;32m----> 1\u001b[0m dictfier\u001b[39m.\u001b[39;49mdictfy(test_class, observation_dict_query)\n",
      "File \u001b[0;32m~/opt/anaconda3/envs/bdsi/lib/python3.8/site-packages/dictfier/api.py:7\u001b[0m, in \u001b[0;36mdictfy\u001b[0;34m(obj, query, flat_obj, nested_flat_obj, nested_iter_obj)\u001b[0m\n\u001b[1;32m      4\u001b[0m \u001b[39mdef\u001b[39;00m \u001b[39mdictfy\u001b[39m(\n\u001b[1;32m      5\u001b[0m         obj, query, flat_obj\u001b[39m=\u001b[39m\u001b[39mNone\u001b[39;00m,\n\u001b[1;32m      6\u001b[0m         nested_flat_obj\u001b[39m=\u001b[39m\u001b[39mNone\u001b[39;00m, nested_iter_obj\u001b[39m=\u001b[39m\u001b[39mNone\u001b[39;00m):\n\u001b[0;32m----> 7\u001b[0m     \u001b[39mreturn\u001b[39;00m factory\u001b[39m.\u001b[39;49m_dict(\n\u001b[1;32m      8\u001b[0m         obj,\n\u001b[1;32m      9\u001b[0m         query,\n\u001b[1;32m     10\u001b[0m         flat_obj,\n\u001b[1;32m     11\u001b[0m         nested_flat_obj,\n\u001b[1;32m     12\u001b[0m         nested_iter_obj,\n\u001b[1;32m     13\u001b[0m     )\n",
      "File \u001b[0;32m~/opt/anaconda3/envs/bdsi/lib/python3.8/site-packages/dictfier/factory.py:175\u001b[0m, in \u001b[0;36m_dict\u001b[0;34m(obj, query, flat_obj, nested_flat_obj, nested_iter_obj)\u001b[0m\n\u001b[1;32m    166\u001b[0m     \u001b[39mif\u001b[39;00m nested_flat_obj \u001b[39mis\u001b[39;00m \u001b[39mnot\u001b[39;00m \u001b[39mNone\u001b[39;00m:\n\u001b[1;32m    167\u001b[0m         \u001b[39m# Costomize how nested flat obj is obtained\u001b[39;00m\n\u001b[1;32m    168\u001b[0m         obj_field \u001b[39m=\u001b[39m custom(\n\u001b[1;32m    169\u001b[0m             nested_flat_obj,\n\u001b[1;32m    170\u001b[0m             obj_field,\n\u001b[1;32m    171\u001b[0m             obj,\n\u001b[1;32m    172\u001b[0m             sub_field_name\n\u001b[1;32m    173\u001b[0m         )\n\u001b[0;32m--> 175\u001b[0m     child \u001b[39m=\u001b[39m _dict(\n\u001b[1;32m    176\u001b[0m         obj_field,\n\u001b[1;32m    177\u001b[0m         sub_field,\n\u001b[1;32m    178\u001b[0m         flat_obj,\n\u001b[1;32m    179\u001b[0m         nested_flat_obj,\n\u001b[1;32m    180\u001b[0m         nested_iter_obj\n\u001b[1;32m    181\u001b[0m     )\n\u001b[1;32m    182\u001b[0m     fields_container\u001b[39m.\u001b[39mupdate({sub_field_name: child})\n\u001b[1;32m    183\u001b[0m \u001b[39melse\u001b[39;00m:\n\u001b[1;32m    184\u001b[0m     \u001b[39m# Ivalid Assignment of value to a field\u001b[39;00m\n",
      "File \u001b[0;32m~/opt/anaconda3/envs/bdsi/lib/python3.8/site-packages/dictfier/factory.py:83\u001b[0m, in \u001b[0;36m_dict\u001b[0;34m(obj, query, flat_obj, nested_flat_obj, nested_iter_obj)\u001b[0m\n\u001b[1;32m     80\u001b[0m \u001b[39mfor\u001b[39;00m field \u001b[39min\u001b[39;00m query:\n\u001b[1;32m     81\u001b[0m     \u001b[39mif\u001b[39;00m \u001b[39misinstance\u001b[39m(field, \u001b[39mstr\u001b[39m):\n\u001b[1;32m     82\u001b[0m         \u001b[39m# Flat field\u001b[39;00m\n\u001b[0;32m---> 83\u001b[0m         field_value \u001b[39m=\u001b[39m \u001b[39mgetattr\u001b[39;49m(obj, field)\n\u001b[1;32m     85\u001b[0m         \u001b[39mif\u001b[39;00m flat_obj \u001b[39mis\u001b[39;00m \u001b[39mnot\u001b[39;00m \u001b[39mNone\u001b[39;00m:\n\u001b[1;32m     86\u001b[0m             \u001b[39m# Costomize how flat obj is obtained\u001b[39;00m\n\u001b[1;32m     87\u001b[0m             field_value \u001b[39m=\u001b[39m custom(flat_obj, field_value, obj, field)\n",
      "\u001b[0;31mAttributeError\u001b[0m: 'dict' object has no attribute 'value'"
     ]
    }
   ],
   "source": [
    "dictfier.dictfy(test_class, observation_dict_query)"
   ]
  },
  {
   "cell_type": "code",
   "execution_count": null,
   "metadata": {},
   "outputs": [],
   "source": []
  }
 ],
 "metadata": {
  "kernelspec": {
   "display_name": "bdsi",
   "language": "python",
   "name": "python3"
  },
  "language_info": {
   "codemirror_mode": {
    "name": "ipython",
    "version": 3
   },
   "file_extension": ".py",
   "mimetype": "text/x-python",
   "name": "python",
   "nbconvert_exporter": "python",
   "pygments_lexer": "ipython3",
   "version": "3.8.15"
  },
  "orig_nbformat": 4
 },
 "nbformat": 4,
 "nbformat_minor": 2
}
